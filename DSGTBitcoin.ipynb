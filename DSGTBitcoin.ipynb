{
  "nbformat": 4,
  "nbformat_minor": 0,
  "metadata": {
    "colab": {
      "provenance": [],
      "collapsed_sections": [],
      "include_colab_link": true
    },
    "kernelspec": {
      "name": "python3",
      "display_name": "Python 3"
    },
    "language_info": {
      "name": "python"
    }
  },
  "cells": [
    {
      "cell_type": "markdown",
      "metadata": {
        "id": "view-in-github",
        "colab_type": "text"
      },
      "source": [
        "<a href=\"https://colab.research.google.com/github/RohitP123/DSGT-Project/blob/main/DSGTBitcoin.ipynb\" target=\"_parent\"><img src=\"https://colab.research.google.com/assets/colab-badge.svg\" alt=\"Open In Colab\"/></a>"
      ]
    },
    {
      "cell_type": "code",
      "execution_count": null,
      "metadata": {
        "id": "HemkA62_f1Aa"
      },
      "outputs": [],
      "source": [
        "import OpenBlender\n",
        "from io import StringIO\n",
        "import pandas as pd\n",
        "import numpy as np\n",
        "import json\n",
        "\n",
        "action = 'API_getObservationsFromDataset'\n",
        "\n",
        "# ANCHOR: 'BTC to USD'\n",
        "\n",
        "        \n",
        "parameters = { \n",
        "    \t'token':'63582f6a95162930245cef5fAMarjgczCw7RQm4RFIIiBjyo2AE8vt',\n",
        "\t'id_user':'63582f6a95162930245cef5f',\n",
        "\t'id_dataset':'5d4c3b789516290b02fe3e24',\n",
        "\t'missing_values_treatment':{\"treatment\":\"raw\",\"exclude\":[]},\n",
        "\t'clean_numbers':'on' \n",
        "}\n",
        "\n",
        "\n",
        "df = pd.read_json(StringIO(json.dumps(OpenBlender.call(action, parameters)['sample'])), convert_dates=False, convert_axes=False).sort_values('timestamp', ascending=False)\n",
        "df.reset_index(drop=True, inplace=True)\n",
        "df['date'] = [OpenBlender.unixToDate(ts, timezone = 'GMT') for ts in df.timestamp]\n",
        "df = df.drop('timestamp', axis = 1)\n",
        "df['%change'] = ((df['close'] - df['open']) / df['open']) * 100\n",
        "df['%change'] = df['%change'].map(\"{:,.2f}%\".format)\n",
        "df['log_diff'] = np.log(df['close']) - np.log(df['open'])\n",
        "print(df.shape)\n",
        "df"
      ]
    }
  ]
}